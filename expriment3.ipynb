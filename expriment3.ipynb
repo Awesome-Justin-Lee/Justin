{
 "cells": [
  {
   "cell_type": "code",
   "execution_count": 8,
   "metadata": {},
   "outputs": [
    {
     "name": "stdout",
     "output_type": "stream",
     "text": [
      "get\n"
     ]
    },
    {
     "name": "stderr",
     "output_type": "stream",
     "text": [
      "No error handlers are registered, logging exception.\n",
      "Traceback (most recent call last):\n",
      "  File \"C:\\Users\\yijun\\anaconda3\\lib\\site-packages\\telegram\\ext\\dispatcher.py\", line 425, in process_update\n",
      "    handler.handle_update(update, self, check, context)\n",
      "  File \"C:\\Users\\yijun\\anaconda3\\lib\\site-packages\\telegram\\ext\\handler.py\", line 145, in handle_update\n",
      "    return self.callback(update, context)\n",
      "  File \"<ipython-input-8-dd1b1e2a0490>\", line 43, in callback_get\n",
      "    update.edit_message_text(text=\"{}이(가) 선택되었습니다\".format(update.callback_query.data),\n",
      "AttributeError: 'Update' object has no attribute 'edit_message_text'\n"
     ]
    },
    {
     "name": "stdout",
     "output_type": "stream",
     "text": [
      "callback\n"
     ]
    }
   ],
   "source": [
    "from telegram.ext import Updater, CommandHandler, CallbackQueryHandler\n",
    "from telegram import InlineKeyboardButton, InlineKeyboardMarkup\n",
    "import telegram\n",
    "from telegram.ext import MessageHandler, Filters\n",
    "import requests \n",
    "import json\n",
    "import pandas as pd\n",
    "from bs4 import BeautifulSoup\n",
    "import logging\n",
    "import emoji\n",
    "\n",
    "\n",
    "token = '1461066934:AAHQLhV3b7PJ-EJX-JNJdYv0tz2fZBnWmhs'\n",
    "bot = telegram.Bot(token)\n",
    "\n",
    "updater = Updater(token=token, use_context=True)\n",
    "dispatcher = updater.dispatcher\n",
    "\n",
    "def build_menu(buttons, n_cols, header_buttons=None, footer_buttons=None):\n",
    "    menu = [buttons[i:i + n_cols] for i in range(0, len(buttons), n_cols)]\n",
    "    if header_buttons:\n",
    "        menu.insert(0, header_buttons)\n",
    "    if footer_buttons:\n",
    "        menu.append(footer_buttons)\n",
    "    return menu\n",
    "\n",
    "def get_command(update, context):\n",
    "    print(\"get\")\n",
    "    show_list = []\n",
    "    show_list.append(InlineKeyboardButton(\"on\", callback_data=\"on\")) # add on button\n",
    "    show_list.append(InlineKeyboardButton(\"off\", callback_data=\"off\")) # add off button\n",
    "    show_list.append(InlineKeyboardButton(\"cancel\", callback_data=\"cancel\")) # add cancel button\n",
    "    show_markup = InlineKeyboardMarkup(build_menu(show_list, len(show_list) - 1)) # make markup\n",
    "    update.message.reply_text(\"원하는 값을 선택하세요\", reply_markup=show_markup)\n",
    "    \n",
    "# def callback_get(bot, update):\n",
    "#     print(\"callback\")\n",
    "#     bot.edit_message_text(text=\"{}이(가) 선택되었습니다\".format(bot.callback_query.data),\n",
    "#                               chat_id=bot.callback_query.message.chat_id, message_id=bot.callback_query.message.message_id)\n",
    "    \n",
    "def callback_get(update, bot):\n",
    "    print(\"callback\")\n",
    "    update.edit_message_text(text=\"{}이(가) 선택되었습니다\".format(update.callback_query.data),\n",
    "                              chat_id=update.callback_query.message.chat_id, message_id=update.callback_query.message.message_id)\n",
    "    \n",
    "\n",
    "bot.sendMessage(chat_id = 1437875774,text ='말해보라라')   \n",
    "get_handler = CommandHandler('get', get_command)\n",
    "dispatcher.add_handler(get_handler)\n",
    "dispatcher.add_handler(CallbackQueryHandler(callback_get))\n",
    "\n",
    "updater.start_polling(timeout=1, clean=True)\n",
    "updater.idle()"
   ]
  },
  {
   "cell_type": "code",
   "execution_count": null,
   "metadata": {},
   "outputs": [],
   "source": []
  }
 ],
 "metadata": {
  "kernelspec": {
   "display_name": "Python 3",
   "language": "python",
   "name": "python3"
  },
  "language_info": {
   "codemirror_mode": {
    "name": "ipython",
    "version": 3
   },
   "file_extension": ".py",
   "mimetype": "text/x-python",
   "name": "python",
   "nbconvert_exporter": "python",
   "pygments_lexer": "ipython3",
   "version": "3.8.3"
  }
 },
 "nbformat": 4,
 "nbformat_minor": 4
}
