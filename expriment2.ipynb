{
 "cells": [
  {
   "cell_type": "code",
   "execution_count": null,
   "metadata": {},
   "outputs": [],
   "source": [
    "import time\n",
    "import telepot\n",
    "import os\n",
    "\n",
    "import telepot \n",
    "from telepot.loop import MessageLoop \n",
    "import time \n",
    "\n",
    "# Active Bot with the token\n",
    "token = \"1461066934:AAHQLhV3b7PJ-EJX-JNJdYv0tz2fZBnWmhs\"\n",
    "bot = telepot.Bot(token)\n",
    "\n",
    "\n",
    "\n",
    "StartMsg = \"\"\" BOT 기본 명령어 1. /help : 도움말 2. 안녕 \"\"\" # 특정 명령어가 입력할 때 반응 \n",
    "def execcommand(message, chat_id): \n",
    "    args = message.split(' ') \n",
    "    command = args[0] \n",
    "    del args[0] \n",
    "    if command == '/help': \n",
    "        send(chat_id, StartMsg) # 메시지를 그대로 전송 \n",
    "\n",
    "def echoserver(message, chat_id, target): \n",
    "    args = message.split(' ') \n",
    "    command = args[0] \n",
    "    if command == '안녕': \n",
    "        send(chat_id, '안녕하세요~ %s 님!' % target['username']) # 메시지 텔레그램으로 전송 \n",
    "\n",
    "def send(chat_id, message): \n",
    "    bot.sendMessage(chat_id, message) \n",
    "    \n",
    "def handler(msg): \n",
    "    content_type, chat_type, chat_id, msg_date, msg_id = telepot.glance(msg, long=True) \n",
    "    print(msg) \n",
    "    if content_type == 'text': \n",
    "        _message = msg['text'] \n",
    "        if _message[0:1] == '/': # 명령어 \n",
    "            execcommand(_message, chat_id) \n",
    "#         else: echoserver(_message, chat_id, msg['from']) \n",
    "    \n",
    "\n",
    "bot.message_loop(handler, run_forever=True)\n"
   ]
  }
 ],
 "metadata": {
  "kernelspec": {
   "display_name": "Python 3",
   "language": "python",
   "name": "python3"
  },
  "language_info": {
   "codemirror_mode": {
    "name": "ipython",
    "version": 3
   },
   "file_extension": ".py",
   "mimetype": "text/x-python",
   "name": "python",
   "nbconvert_exporter": "python",
   "pygments_lexer": "ipython3",
   "version": "3.8.3"
  }
 },
 "nbformat": 4,
 "nbformat_minor": 4
}
