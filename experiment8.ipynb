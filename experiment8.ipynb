{
 "cells": [
  {
   "cell_type": "code",
   "execution_count": null,
   "metadata": {},
   "outputs": [
    {
     "name": "stdout",
     "output_type": "stream",
     "text": [
      "네이버에서 뉴스를 수집했다.\n",
      "직방에서 매물을 수집했다.\n",
      "직방에서 매물을 수집했다.\n"
     ]
    }
   ],
   "source": [
    "#buttons_bot.py\n",
    "import time\n",
    "from telegram import ChatAction\n",
    "from telegram import InlineKeyboardButton, InlineKeyboardMarkup\n",
    "from telegram.ext import Updater, Filters\n",
    "from telegram.ext import CommandHandler, MessageHandler, CallbackQueryHandler\n",
    " \n",
    "BOT_TOKEN=\"1461066934:AAHQLhV3b7PJ-EJX-JNJdYv0tz2fZBnWmhs\"\n",
    "\n",
    "updater = Updater( token=BOT_TOKEN, use_context=True )\n",
    "dispatcher = updater.dispatcher\n",
    " \n",
    "def cmd_task_buttons(update, context):\n",
    "    task_buttons = [\n",
    "        [\n",
    "            InlineKeyboardButton( '1번 주식 매수', callback_data=1 ), \n",
    "            InlineKeyboardButton( '2번 주식 매수', callback_data=2 )\n",
    "        ],\n",
    "        [   InlineKeyboardButton( '3번 주식 매수', callback_data=3 ), \n",
    "            InlineKeyboardButton( '4번 주식 매수', callback_data=4 )\n",
    "        ],\n",
    "        [   InlineKeyboardButton( '5번 주식 매수', callback_data=5 ), \n",
    "            InlineKeyboardButton( '구매 안함', callback_data=6 )\n",
    "        ]\n",
    "    ]\n",
    "    reply_markup = InlineKeyboardMarkup( task_buttons )\n",
    "    context.bot.send_message(chat_id=update.message.chat_id, text='매수할 주식을 선택해주세요.', reply_markup=reply_markup)\n",
    "    \n",
    "def cb_button(update, context):\n",
    "    query = update.callback_query\n",
    "    data = query.data   \n",
    "    context.bot.send_chat_action(chat_id=update.effective_user.id, action=ChatAction.TYPING)\n",
    "    if data == '6':\n",
    "        context.bot.edit_message_text(text='매수하지 않습니다.', chat_id=query.message.chat_id, message_id=query.message.message_id)\n",
    "    else:\n",
    "        context.bot.edit_message_text(text='[{}]번 주식의 매수할 수량을 입력해주세요.'.format( data ), chat_id=query.message.chat_id, message_id=query.message.message_id)       \n",
    "        if   data == '1':\n",
    "            crawl_navernews()\n",
    "        elif data == '2':\n",
    "            crawl_zigbang()    \n",
    "        elif data == '3':\n",
    "            crawl_zigbang()\n",
    "        elif data == '4':\n",
    "            crawl_zigbang() \n",
    "        elif data == '5':\n",
    "            crawl_zigbang()    \n",
    "        context.bot.send_message(chat_id=update.effective_chat.id, text='[{}] 작업을 완료하였습니다.'.format( data ))\n",
    "    \n",
    "def crawl_navernews():\n",
    "    time.sleep( 2 )\n",
    "    print( '네이버에서 뉴스를 수집했다.' )\n",
    "    \n",
    "def crawl_zigbang():\n",
    "    time.sleep( 2 )\n",
    "    print( '직방에서 매물을 수집했다.' )\n",
    "    \n",
    "task_buttons_handler = CommandHandler( 'tasks', cmd_task_buttons )\n",
    "button_callback_handler = CallbackQueryHandler( cb_button )    \n",
    " \n",
    "dispatcher.add_handler( task_buttons_handler )\n",
    "dispatcher.add_handler( button_callback_handler )\n",
    " \n",
    "updater.start_polling()\n",
    "updater.idle()\n"
   ]
  }
 ],
 "metadata": {
  "kernelspec": {
   "display_name": "Python 3",
   "language": "python",
   "name": "python3"
  },
  "language_info": {
   "codemirror_mode": {
    "name": "ipython",
    "version": 3
   },
   "file_extension": ".py",
   "mimetype": "text/x-python",
   "name": "python",
   "nbconvert_exporter": "python",
   "pygments_lexer": "ipython3",
   "version": "3.8.3"
  }
 },
 "nbformat": 4,
 "nbformat_minor": 4
}
