{
 "cells": [
  {
   "cell_type": "code",
   "execution_count": 145,
   "metadata": {},
   "outputs": [
    {
     "name": "stdout",
     "output_type": "stream",
     "text": [
      "  stock_number stock_name stock_price\n",
      "1       005930       삼성전자       57500\n",
      "2       000660       LG전자       85600\n",
      "3       005380        현대차      177500\n",
      "4       051910       LG화학      705000\n",
      "5       035720        카카오      365500\n",
      "\n",
      "\n",
      "stock_number    005930\n",
      "stock_name        삼성전자\n",
      "stock_price      57500\n",
      "Name: 1, dtype: object\n",
      "stock_number    000660\n",
      "stock_name        LG전자\n",
      "stock_price      85600\n",
      "Name: 2, dtype: object\n",
      "stock_number    005380\n",
      "stock_name         현대차\n",
      "stock_price     177500\n",
      "Name: 3, dtype: object\n",
      "stock_number    051910\n",
      "stock_name        LG화학\n",
      "stock_price     705000\n",
      "Name: 4, dtype: object\n",
      "stock_number    035720\n",
      "stock_name         카카오\n",
      "stock_price     365500\n",
      "Name: 5, dtype: object\n"
     ]
    }
   ],
   "source": [
    "import json\n",
    "import pandas as pd\n",
    "\n",
    "###JSON file example\n",
    "# {\n",
    "#   \"1\": [\n",
    "#     {\n",
    "#       \"stock_number\": \"005930\",\n",
    "#       \"stock_name\": \"삼성전자\",\n",
    "#       \"stock_price\": \"57500\"\n",
    "#     }\n",
    "#   ],\n",
    "#   \"2\": [\n",
    "#     {\n",
    "#       \"stock_number\": \"000660\",\n",
    "#       \"stock_name\": \"LG전자\",\n",
    "#       \"stock_price\": \"85600\"\n",
    "#     }\n",
    "#   ]\n",
    "# }\n",
    "\n",
    "\n",
    "with open('./stock_data.json' ,encoding = \"UTF-8\") as file:\n",
    "    json_data = json.load(file)\n",
    "\n",
    "    \n",
    "    temp = pd.DataFrame(json_data)\n",
    "    df = temp.T\n",
    "    print(df)\n",
    "\n",
    "print(\"\\n\")\n",
    "\n",
    "# print('Stock count:', len(json_data))\n",
    "# print(df.iloc[[1,3]])\n",
    "# print(df.iloc[2])\n",
    "# df.iloc[2]\n",
    "# df.iloc[[2]]\n",
    "# df['stock_price']\n",
    "# df[['stock_price']]\n",
    "# df['stock_price'].iloc[2]\n",
    "# df.iloc[[1,2,3], :3]\n",
    "\n",
    "# for i in df:\n",
    "#     print(i)  ##열이름 출력\n",
    "\n",
    "for idx,row in df.iterrows():\n",
    "    print(row)   ##행별로 출력\n",
    "\n",
    "\n"
   ]
  }
 ],
 "metadata": {
  "kernelspec": {
   "display_name": "Python 3",
   "language": "python",
   "name": "python3"
  },
  "language_info": {
   "codemirror_mode": {
    "name": "ipython",
    "version": 3
   },
   "file_extension": ".py",
   "mimetype": "text/x-python",
   "name": "python",
   "nbconvert_exporter": "python",
   "pygments_lexer": "ipython3",
   "version": "3.8.3"
  }
 },
 "nbformat": 4,
 "nbformat_minor": 4
}
